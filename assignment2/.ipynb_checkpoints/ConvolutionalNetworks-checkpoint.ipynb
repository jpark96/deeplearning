{
 "cells": [
  {
   "cell_type": "markdown",
   "metadata": {
    "deletable": true,
    "editable": true
   },
   "source": [
    "# Convolutional Networks\n",
    "So far we have worked with deep fully-connected networks, using them to explore different optimization strategies and network architectures. Fully-connected networks are a good testbed for experimentation because they are very computationally efficient, but in practice all state-of-the-art results use convolutional networks instead.\n",
    "\n",
    "First you will implement several layer types that are used in convolutional networks. You will then use these layers to train a convolutional network on the CIFAR-10 dataset."
   ]
  },
  {
   "cell_type": "code",
   "execution_count": 1,
   "metadata": {
    "collapsed": false,
    "deletable": true,
    "editable": true
   },
   "outputs": [],
   "source": [
    "# As usual, a bit of setup\n",
    "from __future__ import print_function\n",
    "import numpy as np\n",
    "import matplotlib.pyplot as plt\n",
    "from cs231n.classifiers.cnn import *\n",
    "from cs231n.data_utils import get_CIFAR10_data\n",
    "from cs231n.gradient_check import eval_numerical_gradient_array, eval_numerical_gradient\n",
    "from cs231n.layers import *\n",
    "from cs231n.fast_layers import *\n",
    "from cs231n.solver import Solver\n",
    "\n",
    "%matplotlib inline\n",
    "plt.rcParams['figure.figsize'] = (10.0, 8.0) # set default size of plots\n",
    "plt.rcParams['image.interpolation'] = 'nearest'\n",
    "plt.rcParams['image.cmap'] = 'gray'\n",
    "\n",
    "# for auto-reloading external modules\n",
    "# see http://stackoverflow.com/questions/1907993/autoreload-of-modules-in-ipython\n",
    "%load_ext autoreload\n",
    "%autoreload 2\n",
    "\n",
    "def rel_error(x, y):\n",
    "  \"\"\" returns relative error \"\"\"\n",
    "  return np.max(np.abs(x - y) / (np.maximum(1e-8, np.abs(x) + np.abs(y))))"
   ]
  },
  {
   "cell_type": "code",
   "execution_count": 2,
   "metadata": {
    "collapsed": false,
    "deletable": true,
    "editable": true
   },
   "outputs": [
    {
     "name": "stdout",
     "output_type": "stream",
     "text": [
      "y_val:  (1000,)\n",
      "X_test:  (1000, 3, 32, 32)\n",
      "y_train:  (49000,)\n",
      "X_train:  (49000, 3, 32, 32)\n",
      "y_test:  (1000,)\n",
      "X_val:  (1000, 3, 32, 32)\n"
     ]
    }
   ],
   "source": [
    "# Load the (preprocessed) CIFAR10 data.\n",
    "\n",
    "data = get_CIFAR10_data()\n",
    "for k, v in data.items():\n",
    "  print('%s: ' % k, v.shape)"
   ]
  },
  {
   "cell_type": "markdown",
   "metadata": {
    "deletable": true,
    "editable": true
   },
   "source": [
    "# Convolution: Naive forward pass\n",
    "The core of a convolutional network is the convolution operation. In the file `cs231n/layers.py`, implement the forward pass for the convolution layer in the function `conv_forward_naive`. \n",
    "\n",
    "You don't have to worry too much about efficiency at this point; just write the code in whatever way you find most clear.\n",
    "\n",
    "You can test your implementation by running the following:"
   ]
  },
  {
   "cell_type": "code",
   "execution_count": 27,
   "metadata": {
    "collapsed": false,
    "deletable": true,
    "editable": true
   },
   "outputs": [
    {
     "name": "stdout",
     "output_type": "stream",
     "text": [
      "Testing conv_forward_naive\n",
      "difference:  2.21214764967e-08\n"
     ]
    }
   ],
   "source": [
    "x_shape = (2, 3, 4, 4)\n",
    "w_shape = (3, 3, 4, 4)\n",
    "x = np.linspace(-0.1, 0.5, num=np.prod(x_shape)).reshape(x_shape)\n",
    "w = np.linspace(-0.2, 0.3, num=np.prod(w_shape)).reshape(w_shape)\n",
    "b = np.linspace(-0.1, 0.2, num=3)\n",
    "\n",
    "conv_param = {'stride': 2, 'pad': 1}\n",
    "out, _ = conv_forward_naive(x, w, b, conv_param)\n",
    "correct_out = np.array([[[[-0.08759809, -0.10987781],\n",
    "                           [-0.18387192, -0.2109216 ]],\n",
    "                          [[ 0.21027089,  0.21661097],\n",
    "                           [ 0.22847626,  0.23004637]],\n",
    "                          [[ 0.50813986,  0.54309974],\n",
    "                           [ 0.64082444,  0.67101435]]],\n",
    "                         [[[-0.98053589, -1.03143541],\n",
    "                           [-1.19128892, -1.24695841]],\n",
    "                          [[ 0.69108355,  0.66880383],\n",
    "                           [ 0.59480972,  0.56776003]],\n",
    "                          [[ 2.36270298,  2.36904306],\n",
    "                           [ 2.38090835,  2.38247847]]]])\n",
    "\n",
    "# Compare your output to ours; difference should be around 2e-8\n",
    "print('Testing conv_forward_naive')\n",
    "print('difference: ', rel_error(out, correct_out))"
   ]
  },
  {
   "cell_type": "markdown",
   "metadata": {
    "deletable": true,
    "editable": true
   },
   "source": [
    "# Aside: Image processing via convolutions\n",
    "\n",
    "As fun way to both check your implementation and gain a better understanding of the type of operation that convolutional layers can perform, we will set up an input containing two images and manually set up filters that perform common image processing operations (grayscale conversion and edge detection). The convolution forward pass will apply these operations to each of the input images. We can then visualize the results as a sanity check."
   ]
  },
  {
   "cell_type": "code",
   "execution_count": 25,
   "metadata": {
    "collapsed": false,
    "deletable": true,
    "editable": true
   },
   "outputs": [
    {
     "ename": "KeyboardInterrupt",
     "evalue": "",
     "output_type": "error",
     "traceback": [
      "\u001b[0;31m---------------------------------------------------------------------------\u001b[0m",
      "\u001b[0;31mKeyboardInterrupt\u001b[0m                         Traceback (most recent call last)",
      "\u001b[0;32m<ipython-input-25-0df94f21e576>\u001b[0m in \u001b[0;36m<module>\u001b[0;34m()\u001b[0m\n\u001b[1;32m     30\u001b[0m \u001b[0;31m# Compute the result of convolving each input in x with each filter in w,\u001b[0m\u001b[0;34m\u001b[0m\u001b[0;34m\u001b[0m\u001b[0m\n\u001b[1;32m     31\u001b[0m \u001b[0;31m# offsetting by b, and storing the results in out.\u001b[0m\u001b[0;34m\u001b[0m\u001b[0;34m\u001b[0m\u001b[0m\n\u001b[0;32m---> 32\u001b[0;31m \u001b[0mout\u001b[0m\u001b[0;34m,\u001b[0m \u001b[0m_\u001b[0m \u001b[0;34m=\u001b[0m \u001b[0mconv_forward_naive\u001b[0m\u001b[0;34m(\u001b[0m\u001b[0mx\u001b[0m\u001b[0;34m,\u001b[0m \u001b[0mw\u001b[0m\u001b[0;34m,\u001b[0m \u001b[0mb\u001b[0m\u001b[0;34m,\u001b[0m \u001b[0;34m{\u001b[0m\u001b[0;34m'stride'\u001b[0m\u001b[0;34m:\u001b[0m \u001b[0;36m1\u001b[0m\u001b[0;34m,\u001b[0m \u001b[0;34m'pad'\u001b[0m\u001b[0;34m:\u001b[0m \u001b[0;36m1\u001b[0m\u001b[0;34m}\u001b[0m\u001b[0;34m)\u001b[0m\u001b[0;34m\u001b[0m\u001b[0m\n\u001b[0m\u001b[1;32m     33\u001b[0m \u001b[0;34m\u001b[0m\u001b[0m\n\u001b[1;32m     34\u001b[0m \u001b[0;32mdef\u001b[0m \u001b[0mimshow_noax\u001b[0m\u001b[0;34m(\u001b[0m\u001b[0mimg\u001b[0m\u001b[0;34m,\u001b[0m \u001b[0mnormalize\u001b[0m\u001b[0;34m=\u001b[0m\u001b[0;32mTrue\u001b[0m\u001b[0;34m)\u001b[0m\u001b[0;34m:\u001b[0m\u001b[0;34m\u001b[0m\u001b[0m\n",
      "\u001b[0;32m/Users/jinpark/Sandbox/deeplearning/assignment2/cs231n/layers.py\u001b[0m in \u001b[0;36mconv_forward_naive\u001b[0;34m(x, w, b, conv_param)\u001b[0m\n\u001b[1;32m    400\u001b[0m                     \u001b[0mx_cols\u001b[0m \u001b[0;34m=\u001b[0m \u001b[0mfield\u001b[0m\u001b[0;34m\u001b[0m\u001b[0m\n\u001b[1;32m    401\u001b[0m                 \u001b[0;32melse\u001b[0m\u001b[0;34m:\u001b[0m\u001b[0;34m\u001b[0m\u001b[0m\n\u001b[0;32m--> 402\u001b[0;31m                     \u001b[0mx_cols\u001b[0m \u001b[0;34m=\u001b[0m \u001b[0mnp\u001b[0m\u001b[0;34m.\u001b[0m\u001b[0mvstack\u001b[0m\u001b[0;34m(\u001b[0m\u001b[0;34m(\u001b[0m\u001b[0mx_cols\u001b[0m\u001b[0;34m,\u001b[0m \u001b[0mfield\u001b[0m\u001b[0;34m)\u001b[0m\u001b[0;34m)\u001b[0m\u001b[0;34m\u001b[0m\u001b[0m\n\u001b[0m\u001b[1;32m    403\u001b[0m \u001b[0;34m\u001b[0m\u001b[0m\n\u001b[1;32m    404\u001b[0m     \u001b[0;31m# x_col.shape = (C*HH*WW) x (H_prime * W_prime * N)\u001b[0m\u001b[0;34m\u001b[0m\u001b[0;34m\u001b[0m\u001b[0m\n",
      "\u001b[0;32m/Users/jinpark/Sandbox/assignment1/.env1/lib/python3.5/site-packages/numpy/core/shape_base.py\u001b[0m in \u001b[0;36mvstack\u001b[0;34m(tup)\u001b[0m\n\u001b[1;32m    232\u001b[0m \u001b[0;34m\u001b[0m\u001b[0m\n\u001b[1;32m    233\u001b[0m     \"\"\"\n\u001b[0;32m--> 234\u001b[0;31m     \u001b[0;32mreturn\u001b[0m \u001b[0m_nx\u001b[0m\u001b[0;34m.\u001b[0m\u001b[0mconcatenate\u001b[0m\u001b[0;34m(\u001b[0m\u001b[0;34m[\u001b[0m\u001b[0matleast_2d\u001b[0m\u001b[0;34m(\u001b[0m\u001b[0m_m\u001b[0m\u001b[0;34m)\u001b[0m \u001b[0;32mfor\u001b[0m \u001b[0m_m\u001b[0m \u001b[0;32min\u001b[0m \u001b[0mtup\u001b[0m\u001b[0;34m]\u001b[0m\u001b[0;34m,\u001b[0m \u001b[0;36m0\u001b[0m\u001b[0;34m)\u001b[0m\u001b[0;34m\u001b[0m\u001b[0m\n\u001b[0m\u001b[1;32m    235\u001b[0m \u001b[0;34m\u001b[0m\u001b[0m\n\u001b[1;32m    236\u001b[0m \u001b[0;32mdef\u001b[0m \u001b[0mhstack\u001b[0m\u001b[0;34m(\u001b[0m\u001b[0mtup\u001b[0m\u001b[0;34m)\u001b[0m\u001b[0;34m:\u001b[0m\u001b[0;34m\u001b[0m\u001b[0m\n",
      "\u001b[0;31mKeyboardInterrupt\u001b[0m: "
     ]
    }
   ],
   "source": [
    "from scipy.misc import imread, imresize\n",
    "\n",
    "kitten, puppy = imread('kitten.jpg'), imread('puppy.jpg')\n",
    "# kitten is wide, and puppy is already square\n",
    "d = kitten.shape[1] - kitten.shape[0]\n",
    "kitten_cropped = kitten[:, d//2:-d//2, :]\n",
    "\n",
    "img_size = 200   # Make this smaller if it runs too slow\n",
    "x = np.zeros((2, 3, img_size, img_size))\n",
    "x[0, :, :, :] = imresize(puppy, (img_size, img_size)).transpose((2, 0, 1))\n",
    "x[1, :, :, :] = imresize(kitten_cropped, (img_size, img_size)).transpose((2, 0, 1))\n",
    "\n",
    "# Set up a convolutional weights holding 2 filters, each 3x3\n",
    "w = np.zeros((2, 3, 3, 3))\n",
    "\n",
    "# The first filter converts the image to grayscale.\n",
    "# Set up the red, green, and blue channels of the filter.\n",
    "w[0, 0, :, :] = [[0, 0, 0], [0, 0.3, 0], [0, 0, 0]]\n",
    "w[0, 1, :, :] = [[0, 0, 0], [0, 0.6, 0], [0, 0, 0]]\n",
    "w[0, 2, :, :] = [[0, 0, 0], [0, 0.1, 0], [0, 0, 0]]\n",
    "\n",
    "# Second filter detects horizontal edges in the blue channel.\n",
    "w[1, 2, :, :] = [[1, 2, 1], [0, 0, 0], [-1, -2, -1]]\n",
    "\n",
    "# Vector of biases. We don't need any bias for the grayscale\n",
    "# filter, but for the edge detection filter we want to add 128\n",
    "# to each output so that nothing is negative.\n",
    "b = np.array([0, 128])\n",
    "\n",
    "# Compute the result of convolving each input in x with each filter in w,\n",
    "# offsetting by b, and storing the results in out.\n",
    "out, _ = conv_forward_naive(x, w, b, {'stride': 1, 'pad': 1})\n",
    "\n",
    "def imshow_noax(img, normalize=True):\n",
    "    \"\"\" Tiny helper to show images as uint8 and remove axis labels \"\"\"\n",
    "    if normalize:\n",
    "        img_max, img_min = np.max(img), np.min(img)\n",
    "        img = 255.0 * (img - img_min) / (img_max - img_min)\n",
    "    plt.imshow(img.astype('uint8'))\n",
    "    plt.gca().axis('off')\n",
    "\n",
    "# Show the original images and the results of the conv operation\n",
    "plt.subplot(2, 3, 1)\n",
    "imshow_noax(puppy, normalize=False)\n",
    "plt.title('Original image')\n",
    "plt.subplot(2, 3, 2)\n",
    "imshow_noax(out[0, 0])\n",
    "plt.title('Grayscale')\n",
    "plt.subplot(2, 3, 3)\n",
    "imshow_noax(out[0, 1])\n",
    "plt.title('Edges')\n",
    "plt.subplot(2, 3, 4)\n",
    "imshow_noax(kitten_cropped, normalize=False)\n",
    "plt.subplot(2, 3, 5)\n",
    "imshow_noax(out[1, 0])\n",
    "plt.subplot(2, 3, 6)\n",
    "imshow_noax(out[1, 1])\n",
    "plt.show()"
   ]
  },
  {
   "cell_type": "markdown",
   "metadata": {
    "deletable": true,
    "editable": true
   },
   "source": [
    "# Convolution: Naive backward pass\n",
    "Implement the backward pass for the convolution operation in the function `conv_backward_naive` in the file `cs231n/layers.py`. Again, you don't need to worry too much about computational efficiency.\n",
    "\n",
    "When you are done, run the following to check your backward pass with a numeric gradient check."
   ]
  },
  {
   "cell_type": "code",
   "execution_count": 35,
   "metadata": {
    "collapsed": false,
    "deletable": true,
    "editable": true
   },
   "outputs": [
    {
     "name": "stdout",
     "output_type": "stream",
     "text": [
      "[[[[  2.02022648e+00   1.31557244e+00  -3.15087854e+00   3.23892197e+00\n",
      "     -4.01214844e+00]\n",
      "   [  1.71832340e+00  -7.09240979e-01  -5.32421591e+00   7.82298212e-01\n",
      "     -2.18995738e+00]\n",
      "   [ -8.29200893e-01   2.82134457e+00  -1.25541821e+00  -1.13170679e+00\n",
      "     -3.55839346e+00]\n",
      "   [ -3.35783037e-01  -2.76913948e+00   4.25723911e+00  -8.11824513e-01\n",
      "      2.70901018e+00]\n",
      "   [  8.47052634e-02   4.30588591e-01   2.95022069e+00  -2.92763735e+00\n",
      "     -9.38719074e-01]]\n",
      "\n",
      "  [[  3.36982195e-01   7.66793750e+00   1.57619395e+00   5.02203786e+00\n",
      "     -1.69753665e+00]\n",
      "   [ -1.93329123e+00  -9.86659460e+00   3.53426045e+00   7.35637014e-01\n",
      "     -3.43491944e+00]\n",
      "   [ -5.79144643e-01   6.55462096e-01   1.89050154e+00  -6.40445092e-01\n",
      "     -2.87212774e+00]\n",
      "   [ -7.13485097e+00   8.58935000e+00  -3.51576934e+00   4.39354129e+00\n",
      "     -4.79888305e-02]\n",
      "   [  7.41454675e-02   5.09290866e+00  -3.31756515e-01   1.78806118e+00\n",
      "     -1.19409283e+00]]\n",
      "\n",
      "  [[  1.16842534e+00   1.43474034e+00  -4.53817523e+00   5.30614446e+00\n",
      "     -1.86829466e+00]\n",
      "   [  2.35364834e+00  -1.66440815e+00  -7.44471603e+00  -7.70657096e+00\n",
      "      5.89220732e+00]\n",
      "   [ -1.74203029e+00   8.24793943e+00   1.07276459e+00  -6.94355593e+00\n",
      "     -2.73216704e-01]\n",
      "   [  1.07133933e+01  -9.71331374e+00   3.34956728e+00  -4.90576418e+00\n",
      "     -3.42628408e-01]\n",
      "   [  2.68982391e-01   1.38367045e-01   2.71260262e+00   2.76204022e+00\n",
      "      5.30966484e-01]]]\n",
      "\n",
      "\n",
      " [[[ -9.24657853e-02  -1.28006446e+00   7.25949523e-01  -1.50713064e+00\n",
      "      3.49119052e+00]\n",
      "   [  1.53838772e+00   2.64526101e+00   8.20046712e-01  -9.22016142e+00\n",
      "      1.63940077e+00]\n",
      "   [  3.16738345e+00   6.17424947e+00  -2.76805430e+00  -6.42229976e+00\n",
      "      2.65598135e+00]\n",
      "   [ -2.97274860e+00   4.36161434e+00  -9.67287141e-01  -4.81172034e-01\n",
      "     -3.02355308e-01]\n",
      "   [ -8.76153249e-01  -4.29451540e+00  -2.09423140e+00   4.77098022e+00\n",
      "     -1.29994324e+00]]\n",
      "\n",
      "  [[ -3.11026408e+00  -4.22130959e-01  -3.16341917e+00  -6.87594596e-01\n",
      "      3.71765763e+00]\n",
      "   [ -5.11734434e+00   3.48143372e+00  -1.05431157e+01  -1.07525519e+00\n",
      "     -3.26488725e+00]\n",
      "   [ -1.50607490e-02  -1.96961312e+00  -7.37686896e+00  -1.75471333e+00\n",
      "     -6.12878447e-01]\n",
      "   [  7.07697906e+00  -4.48866637e+00   1.46204169e+00   5.43930108e+00\n",
      "     -2.55228256e+00]\n",
      "   [ -1.81330361e+00   2.42924773e+00   4.38392097e+00   1.60253889e+00\n",
      "      3.47716784e+00]]\n",
      "\n",
      "  [[  7.26442754e-01   1.55500756e+00   1.08374415e+00  -9.87805473e-01\n",
      "      9.96467669e-01]\n",
      "   [  2.19773761e+00  -7.72766145e-01  -4.20673745e-02  -2.31208377e+00\n",
      "      5.87178887e+00]\n",
      "   [  1.80909115e+00   2.46208898e+00  -1.33290960e+00  -6.19429002e+00\n",
      "     -7.51866026e+00]\n",
      "   [ -5.02247881e+00   1.15874470e+01   1.50015634e+00  -4.98669649e+00\n",
      "     -1.99920556e+00]\n",
      "   [  3.89360217e+00  -7.44746816e+00   4.84725932e+00   1.20209521e+00\n",
      "     -3.99756223e+00]]]\n",
      "\n",
      "\n",
      " [[[ -2.22724398e+00   1.05739219e+00  -1.50878460e+00   4.51775389e-01\n",
      "      1.71437390e+00]\n",
      "   [ -2.89878986e+00   3.85205772e+00   1.93410186e+00   2.49346770e+00\n",
      "      7.19826867e-01]\n",
      "   [  1.37507135e+00   3.11595907e+00  -3.16196665e+00   2.61839254e+00\n",
      "     -2.98748948e+00]\n",
      "   [  1.08971823e+00   1.61188748e+00  -5.39432406e+00   2.69503308e+00\n",
      "      2.73310267e-01]\n",
      "   [  7.39397227e-01  -3.92230361e-01  -1.98014370e+00   2.93883935e-01\n",
      "      2.56585759e+00]]\n",
      "\n",
      "  [[ -3.28718022e-01  -4.33568608e+00  -1.27412896e+00   2.05462257e+00\n",
      "      4.96874956e-02]\n",
      "   [  7.81585502e-01   1.40577482e-01   1.04168798e+00   6.10370381e+00\n",
      "      1.02087078e-01]\n",
      "   [ -3.54133834e+00  -5.48100338e-02   4.18848264e+00  -7.59702625e+00\n",
      "      1.64354483e+00]\n",
      "   [  3.34358019e+00   9.59113367e-01  -4.64071785e+00  -6.91362085e-01\n",
      "      6.08528473e-01]\n",
      "   [ -9.00537916e-01   1.83260645e+00   8.63589935e-01   8.32684376e+00\n",
      "      4.38067710e-01]]\n",
      "\n",
      "  [[ -2.33796416e+00   2.50387538e+00  -7.40128489e-01  -2.38669029e+00\n",
      "     -1.17126393e+00]\n",
      "   [  2.09598120e+00   2.81442706e+00  -1.76901625e+00  -3.32756461e+00\n",
      "      2.61252406e-01]\n",
      "   [ -1.51690435e+00  -2.31587751e+00   7.56492868e-01   1.01951205e+01\n",
      "     -1.69296843e+00]\n",
      "   [  8.89771956e-01   9.43576092e+00  -7.01734385e-01  -3.57031301e+00\n",
      "      1.25410926e+00]\n",
      "   [  3.82473504e+00  -4.27778184e+00  -2.73984398e-01  -2.92967517e-01\n",
      "      5.45312796e+00]]]\n",
      "\n",
      "\n",
      " [[[  2.45214891e+00   2.13223471e-01  -7.07866001e-01  -1.05986094e+00\n",
      "     -1.76775104e+00]\n",
      "   [ -1.72922648e+00  -7.45392476e-01   6.69575847e-01   5.90344585e-01\n",
      "     -2.39720472e+00]\n",
      "   [ -3.02734110e-02   2.11157492e+00  -3.03498034e-01  -9.22613984e-01\n",
      "     -2.25027117e+00]\n",
      "   [  2.72860935e-01   1.35912218e+00  -4.87928095e+00  -7.02707004e-01\n",
      "      1.73777378e+00]\n",
      "   [  3.92869460e+00   6.94953939e+00   1.90670405e-01  -3.83811669e+00\n",
      "     -1.48902665e+00]]\n",
      "\n",
      "  [[  4.40869446e-01   1.64971989e-01  -4.93125978e+00   1.83330126e+00\n",
      "     -2.35008492e+00]\n",
      "   [  1.07654479e-01  -5.80944942e-01   1.84155445e-01   2.53968657e+00\n",
      "     -3.83704586e+00]\n",
      "   [  3.29454842e+00  -2.75661043e+00  -1.90948429e+00  -3.87136873e+00\n",
      "     -2.97565385e+00]\n",
      "   [ -1.59334541e+00  -7.51611821e+00  -6.36266425e-01  -3.07632781e-03\n",
      "      3.96334543e+00]\n",
      "   [  1.90486915e+00   4.53608888e+00   5.61383949e-01  -1.90494224e+00\n",
      "     -2.51582315e+00]]\n",
      "\n",
      "  [[ -1.28807327e+00  -8.42847699e-01   1.40578602e+00  -7.52186351e-01\n",
      "     -2.50394298e-01]\n",
      "   [ -4.08666156e-01   8.42415630e-01  -8.25740366e-01  -1.49863560e+00\n",
      "      3.63457853e-01]\n",
      "   [ -3.03494852e+00  -2.27281566e+00   4.11975168e-01  -2.49329512e+00\n",
      "      5.08448576e-01]\n",
      "   [  1.64486499e+00  -6.31210781e-01  -3.52449616e+00  -7.12887801e-01\n",
      "     -4.79192895e-01]\n",
      "   [  1.73538040e+00  -2.36114753e-01  -1.79911747e+00  -3.25074235e+00\n",
      "      3.08087853e+00]]]]\n",
      "[[[[ -2.69988628e+00   1.45637708e+00  -2.34636863e+00   2.83886814e+00\n",
      "     -8.22059669e-01]\n",
      "   [ -7.13357932e-01  -1.82411480e+00   5.28953553e+00   1.41667251e+00\n",
      "      3.26098139e-01]\n",
      "   [ -1.66665828e+00   1.48005880e+00   5.26827611e+00   3.15084397e+00\n",
      "      2.40450005e+00]\n",
      "   [ -4.20254129e+00   2.74144302e+00   1.44006314e+00  -3.98032911e+00\n",
      "      1.76686997e+00]\n",
      "   [ -5.47258476e+00   6.19537621e-01   1.43186384e+00  -1.51289016e+00\n",
      "      3.98038852e+00]]\n",
      "\n",
      "  [[ -1.51038292e+00  -5.90857627e+00  -2.29040885e+00  -2.16019712e+00\n",
      "     -1.23226113e+00]\n",
      "   [ -3.51460320e-01   1.81137672e+00  -5.21157556e+00   4.81780899e+00\n",
      "     -3.62646362e+00]\n",
      "   [  2.45905576e+00  -6.16624788e-02   1.30409706e+01  -2.51982723e+00\n",
      "      7.08086084e+00]\n",
      "   [  2.11904438e+00   3.91137404e+00   1.18928336e+00  -6.42433011e+00\n",
      "      2.72395269e+00]\n",
      "   [ -2.45156683e+00  -2.96395214e+00  -6.41102930e+00   5.98230977e-01\n",
      "      3.41461686e-01]]\n",
      "\n",
      "  [[ -2.06137416e+00   7.12060668e+00  -5.86928335e+00   5.19049569e+00\n",
      "     -7.14489635e+00]\n",
      "   [  3.18059335e+00  -8.14528072e-01   1.31215013e+01  -1.09580727e+01\n",
      "      2.03962758e+00]\n",
      "   [ -7.03241658e+00   1.23140400e+00   1.90497675e+00   1.02141612e+01\n",
      "      1.63046000e+00]\n",
      "   [ -4.03499386e+00   2.57927767e+00   1.32745959e+00   4.41482732e+00\n",
      "     -6.61600868e-01]\n",
      "   [ -3.49218052e+00  -1.05104531e+00   1.24653706e+00  -3.31705134e-01\n",
      "     -8.38645696e-01]]]\n",
      "\n",
      "\n",
      " [[[ -4.57838310e-01  -1.29281647e+00  -1.81634335e+00  -9.45029259e-01\n",
      "      2.56353370e+00]\n",
      "   [ -3.11466257e+00  -6.20658544e+00  -3.37323587e+00  -5.55803866e+00\n",
      "     -2.91503611e+00]\n",
      "   [  6.36858253e-01  -1.32373088e+00   1.58180740e+00   2.87296118e-01\n",
      "      8.15376944e-01]\n",
      "   [  1.59917492e+00  -2.13378035e+00  -1.13540316e+00   1.94434501e+00\n",
      "      9.85112221e-02]\n",
      "   [  2.34799209e+00  -4.62667106e+00  -5.10528723e+00   7.61022608e-01\n",
      "      7.51852671e-01]]\n",
      "\n",
      "  [[  5.95217203e+00  -2.85599946e+00   4.63370065e+00   8.02606891e+00\n",
      "      3.42667441e+00]\n",
      "   [ -4.95633610e+00  -4.24934692e+00   8.19062032e-01  -6.80225039e+00\n",
      "     -9.06342310e-01]\n",
      "   [  2.16231774e+00   6.56560154e+00  -9.02394478e-01  -1.24287699e+00\n",
      "     -2.67222438e-01]\n",
      "   [  2.24934612e+00   2.68971237e+00  -1.29826753e+00   2.01113921e+00\n",
      "      8.90354231e-01]\n",
      "   [ -1.19473307e+00  -9.89630339e-01  -5.37799012e-01   3.70922952e+00\n",
      "      1.62109643e+00]]\n",
      "\n",
      "  [[ -8.84629231e-01   6.74250648e-01   3.48170841e+00   2.39647819e-01\n",
      "      5.46479930e+00]\n",
      "   [ -2.02444391e+00  -6.51957255e+00  -3.07474338e+00  -3.07936747e+00\n",
      "     -5.60747308e-01]\n",
      "   [ -9.09416514e-01  -3.73156359e+00  -7.04886783e+00  -1.90289477e-01\n",
      "     -2.61019540e+00]\n",
      "   [ -4.87083939e+00  -5.74792833e+00   1.63781902e+00   5.43372716e+00\n",
      "      1.11907518e+00]\n",
      "   [  7.30002642e+00  -1.80705255e+00  -1.09083972e+00  -6.91249200e-01\n",
      "      2.10740724e+00]]]\n",
      "\n",
      "\n",
      " [[[  4.60890594e-01   3.17834402e+00  -1.06268778e+00   1.10496204e+00\n",
      "      1.17103613e+00]\n",
      "   [  4.44880248e-01   3.10435442e+00  -8.86453410e-01   1.70529444e+00\n",
      "      1.25969923e+00]\n",
      "   [ -9.39740830e-01  -1.21652633e-01  -7.01769981e-03  -6.25284337e-01\n",
      "     -3.51062244e+00]\n",
      "   [ -4.48626853e-01  -5.54737233e-01   2.96051256e-01   6.23101516e+00\n",
      "     -2.08930619e+00]\n",
      "   [  5.06910170e-01   4.19623511e+00   5.10661845e-01   7.32192559e-01\n",
      "     -3.67091494e+00]]\n",
      "\n",
      "  [[  1.00004011e+00   1.43317733e+00   2.31740873e+00  -6.26099486e+00\n",
      "      4.28914024e+00]\n",
      "   [  2.05120921e+00   5.12841081e+00  -1.57498127e+00   9.16716277e+00\n",
      "     -1.35862181e+00]\n",
      "   [  1.05069984e+00  -2.53781896e+00  -1.16246819e+00   7.92330247e-01\n",
      "     -5.94593117e+00]\n",
      "   [  8.52405880e-01  -9.17495146e+00   4.46180562e+00  -2.62666886e+00\n",
      "      3.38070859e+00]\n",
      "   [  1.45266365e+00  -1.47893059e+00   1.15567329e+01  -8.40623468e-01\n",
      "     -2.75879480e+00]]\n",
      "\n",
      "  [[  6.42421887e-01   7.93977528e-02  -3.74285909e+00   4.06952397e+00\n",
      "     -4.96774687e+00]\n",
      "   [  2.41610436e-01   3.78332504e+00   1.18508498e-01   1.79425689e-01\n",
      "      3.46660445e+00]\n",
      "   [ -4.91124467e-02   1.26998144e+00   5.46372938e-01  -4.36640497e+00\n",
      "     -8.82980278e-01]\n",
      "   [ -4.99182372e+00   1.22065574e+00   5.15869267e-02  -1.08631103e-01\n",
      "     -5.56347131e+00]\n",
      "   [  1.02120998e+00   3.84423245e+00  -7.41903067e+00   5.37973944e+00\n",
      "      1.04067071e+01]]]\n",
      "\n",
      "\n",
      " [[[ -7.79281580e-01  -1.26274797e+00  -4.94311439e+00  -6.82465231e-01\n",
      "     -2.26793243e+00]\n",
      "   [  6.21759356e-01   1.07825114e-01   3.25625802e+00   4.63974658e+00\n",
      "     -1.50304651e+00]\n",
      "   [ -1.72351491e+00  -7.51950180e-01  -1.70634902e+00  -2.29413574e+00\n",
      "     -6.92604003e-01]\n",
      "   [ -4.50479133e-01  -8.78009615e-01  -6.31966119e+00  -1.91067718e+00\n",
      "      2.31321035e+00]\n",
      "   [  6.03813533e+00   7.24582949e-01  -4.10420528e+00   1.03132757e+00\n",
      "      6.42931570e-01]]\n",
      "\n",
      "  [[ -2.38880886e+00  -4.44307682e+00  -1.54694275e+00  -8.50248033e+00\n",
      "      2.58353673e+00]\n",
      "   [ -2.18125890e+00   5.97368305e-01   1.94582247e+00  -1.50576607e+00\n",
      "     -2.28412244e+00]\n",
      "   [ -2.02720558e+00   1.69994922e+00   1.87396042e+00   4.52352716e+00\n",
      "     -1.83220711e+00]\n",
      "   [ -4.23860871e+00  -9.62064104e+00  -3.21600666e+00  -3.82633566e+00\n",
      "      3.09125742e+00]\n",
      "   [  1.29525751e+00  -3.66551679e+00  -7.57278508e+00  -2.56200938e+00\n",
      "      1.61051865e+00]]\n",
      "\n",
      "  [[  3.56127211e+00  -1.47201756e+00  -3.27969059e+00   6.56617116e+00\n",
      "     -7.20688090e+00]\n",
      "   [  1.76276581e-01   2.13670535e+00  -3.96663816e-01  -1.81775643e+00\n",
      "      4.13124154e+00]\n",
      "   [ -2.69316016e+00   5.23877019e+00  -2.51593802e+00   4.30579975e+00\n",
      "      8.84682285e+00]\n",
      "   [  1.69335548e+00  -7.12786455e+00  -5.67208569e+00  -4.01296710e+00\n",
      "     -4.92393777e+00]\n",
      "   [ -1.20308326e+00  -1.33753552e-01   2.59854276e+00  -3.92834505e+00\n",
      "     -2.47928711e+00]]]]\n",
      "[[[[  3.74083229  -1.11736932   5.65008475]\n",
      "   [-19.11962989   5.65406037   4.53124725]\n",
      "   [ -3.6329338    3.76169087   7.20472087]]\n",
      "\n",
      "  [[  7.03395312  -4.5727834   -7.8451423 ]\n",
      "   [  5.66691388 -12.92959222  -0.40313598]\n",
      "   [  5.28682252  11.21425667  -3.41223078]]\n",
      "\n",
      "  [[  9.39415069 -22.2121015  -16.20336304]\n",
      "   [-14.39395302 -15.52157928  -8.1869118 ]\n",
      "   [  2.5098062   -2.08364313  -1.90675446]]]\n",
      "\n",
      "\n",
      " [[[ -9.06570861  11.87244296  -7.41391816]\n",
      "   [ -0.12837405  -7.23888876   9.17635209]\n",
      "   [  4.14548712  23.18841142  -9.49222648]]\n",
      "\n",
      "  [[  2.58171801  -1.78163112  -1.10845452]\n",
      "   [-13.76007062   3.91269497  -6.56275002]\n",
      "   [  3.27507715  -4.38790371  10.09310656]]\n",
      "\n",
      "  [[-14.34939674  -2.80296041  -3.72368111]\n",
      "   [  0.65154294  24.28001799 -10.36012214]\n",
      "   [ -3.16236407   1.52530603   3.68371982]]]]\n",
      "[[[[  7.21060551e+00  -5.70037395e+00  -2.64711545e+00]\n",
      "   [ -8.22237152e+00   6.24815308e+00   3.89937745e+00]\n",
      "   [ -2.63124857e+00  -2.48257361e+01  -1.00844726e-02]]\n",
      "\n",
      "  [[  1.29245775e+00   4.75469740e+00  -3.81945112e-01]\n",
      "   [  2.50444298e+00   1.23853798e+01   7.22982869e+00]\n",
      "   [  3.47494959e+00   7.22786557e+00   7.80116941e+00]]\n",
      "\n",
      "  [[  8.49892734e+00  -5.86416073e+00  -1.11439270e+01]\n",
      "   [ -1.25012888e+01  -1.62116720e+01  -1.83954506e+01]\n",
      "   [  1.33413746e+01  -3.18849123e+00  -2.85263215e-01]]]\n",
      "\n",
      "\n",
      " [[[ -3.04186062e+00  -2.68202688e+00   1.84854263e+00]\n",
      "   [ -5.52424422e+00   7.27207640e+00  -4.23001750e+00]\n",
      "   [ -5.25101060e+00  -1.64989811e-01  -1.60124900e+00]]\n",
      "\n",
      "  [[ -6.49640991e+00   1.37460197e-01   9.78577724e+00]\n",
      "   [ -1.34032882e+01  -4.54223880e+00  -5.39254829e+00]\n",
      "   [ -1.06453621e+01  -8.73936665e+00   2.27160203e-01]]\n",
      "\n",
      "  [[ -4.17586519e+00  -4.55767220e+00  -1.47910430e+01]\n",
      "   [  4.64191530e+00  -1.19182763e+01  -2.51686340e-01]\n",
      "   [ -2.28468074e+01  -1.33882525e+01  -1.16973312e+01]]]]\n",
      "Testing conv_backward_naive function\n",
      "dx error:  1.0\n",
      "dw error:  1.0\n",
      "db error:  1.01792689114e-10\n"
     ]
    }
   ],
   "source": [
    "np.random.seed(231)\n",
    "x = np.random.randn(4, 3, 5, 5)\n",
    "w = np.random.randn(2, 3, 3, 3)\n",
    "b = np.random.randn(2,)\n",
    "dout = np.random.randn(4, 2, 5, 5)\n",
    "conv_param = {'stride': 1, 'pad': 1}\n",
    "\n",
    "dx_num = eval_numerical_gradient_array(lambda x: conv_forward_naive(x, w, b, conv_param)[0], x, dout)\n",
    "dw_num = eval_numerical_gradient_array(lambda w: conv_forward_naive(x, w, b, conv_param)[0], w, dout)\n",
    "db_num = eval_numerical_gradient_array(lambda b: conv_forward_naive(x, w, b, conv_param)[0], b, dout)\n",
    "\n",
    "out, cache = conv_forward_naive(x, w, b, conv_param)\n",
    "dx, dw, db = conv_backward_naive(dout, cache)\n",
    "\n",
    "\n",
    "print(dx_num)\n",
    "print(dx)\n",
    "\n",
    "# Your errors should be around 1e-8'\n",
    "print('Testing conv_backward_naive function')\n",
    "print('dx error: ', rel_error(dx, dx_num))\n",
    "print('dw error: ', rel_error(dw, dw_num))\n",
    "print('db error: ', rel_error(db, db_num))"
   ]
  },
  {
   "cell_type": "markdown",
   "metadata": {
    "deletable": true,
    "editable": true
   },
   "source": [
    "# Max pooling: Naive forward\n",
    "Implement the forward pass for the max-pooling operation in the function `max_pool_forward_naive` in the file `cs231n/layers.py`. Again, don't worry too much about computational efficiency.\n",
    "\n",
    "Check your implementation by running the following:"
   ]
  },
  {
   "cell_type": "code",
   "execution_count": null,
   "metadata": {
    "collapsed": false,
    "deletable": true,
    "editable": true
   },
   "outputs": [],
   "source": [
    "x_shape = (2, 3, 4, 4)\n",
    "x = np.linspace(-0.3, 0.4, num=np.prod(x_shape)).reshape(x_shape)\n",
    "pool_param = {'pool_width': 2, 'pool_height': 2, 'stride': 2}\n",
    "\n",
    "out, _ = max_pool_forward_naive(x, pool_param)\n",
    "\n",
    "correct_out = np.array([[[[-0.26315789, -0.24842105],\n",
    "                          [-0.20421053, -0.18947368]],\n",
    "                         [[-0.14526316, -0.13052632],\n",
    "                          [-0.08631579, -0.07157895]],\n",
    "                         [[-0.02736842, -0.01263158],\n",
    "                          [ 0.03157895,  0.04631579]]],\n",
    "                        [[[ 0.09052632,  0.10526316],\n",
    "                          [ 0.14947368,  0.16421053]],\n",
    "                         [[ 0.20842105,  0.22315789],\n",
    "                          [ 0.26736842,  0.28210526]],\n",
    "                         [[ 0.32631579,  0.34105263],\n",
    "                          [ 0.38526316,  0.4       ]]]])\n",
    "\n",
    "# Compare your output with ours. Difference should be around 1e-8.\n",
    "print('Testing max_pool_forward_naive function:')\n",
    "print('difference: ', rel_error(out, correct_out))"
   ]
  },
  {
   "cell_type": "markdown",
   "metadata": {
    "deletable": true,
    "editable": true
   },
   "source": [
    "# Max pooling: Naive backward\n",
    "Implement the backward pass for the max-pooling operation in the function `max_pool_backward_naive` in the file `cs231n/layers.py`. You don't need to worry about computational efficiency.\n",
    "\n",
    "Check your implementation with numeric gradient checking by running the following:"
   ]
  },
  {
   "cell_type": "code",
   "execution_count": null,
   "metadata": {
    "collapsed": false,
    "deletable": true,
    "editable": true
   },
   "outputs": [],
   "source": [
    "np.random.seed(231)\n",
    "x = np.random.randn(3, 2, 8, 8)\n",
    "dout = np.random.randn(3, 2, 4, 4)\n",
    "pool_param = {'pool_height': 2, 'pool_width': 2, 'stride': 2}\n",
    "\n",
    "dx_num = eval_numerical_gradient_array(lambda x: max_pool_forward_naive(x, pool_param)[0], x, dout)\n",
    "\n",
    "out, cache = max_pool_forward_naive(x, pool_param)\n",
    "dx = max_pool_backward_naive(dout, cache)\n",
    "\n",
    "# Your error should be around 1e-12\n",
    "print('Testing max_pool_backward_naive function:')\n",
    "print('dx error: ', rel_error(dx, dx_num))"
   ]
  },
  {
   "cell_type": "markdown",
   "metadata": {
    "deletable": true,
    "editable": true
   },
   "source": [
    "# Fast layers\n",
    "Making convolution and pooling layers fast can be challenging. To spare you the pain, we've provided fast implementations of the forward and backward passes for convolution and pooling layers in the file `cs231n/fast_layers.py`.\n",
    "\n",
    "The fast convolution implementation depends on a Cython extension; to compile it you need to run the following from the `cs231n` directory:\n",
    "\n",
    "```bash\n",
    "python setup.py build_ext --inplace\n",
    "```\n",
    "\n",
    "The API for the fast versions of the convolution and pooling layers is exactly the same as the naive versions that you implemented above: the forward pass receives data, weights, and parameters and produces outputs and a cache object; the backward pass recieves upstream derivatives and the cache object and produces gradients with respect to the data and weights.\n",
    "\n",
    "**NOTE:** The fast implementation for pooling will only perform optimally if the pooling regions are non-overlapping and tile the input. If these conditions are not met then the fast pooling implementation will not be much faster than the naive implementation.\n",
    "\n",
    "You can compare the performance of the naive and fast versions of these layers by running the following:"
   ]
  },
  {
   "cell_type": "code",
   "execution_count": null,
   "metadata": {
    "collapsed": false,
    "deletable": true,
    "editable": true
   },
   "outputs": [],
   "source": [
    "from cs231n.fast_layers import conv_forward_fast, conv_backward_fast\n",
    "from time import time\n",
    "np.random.seed(231)\n",
    "x = np.random.randn(100, 3, 31, 31)\n",
    "w = np.random.randn(25, 3, 3, 3)\n",
    "b = np.random.randn(25,)\n",
    "dout = np.random.randn(100, 25, 16, 16)\n",
    "conv_param = {'stride': 2, 'pad': 1}\n",
    "\n",
    "t0 = time()\n",
    "out_naive, cache_naive = conv_forward_naive(x, w, b, conv_param)\n",
    "t1 = time()\n",
    "out_fast, cache_fast = conv_forward_fast(x, w, b, conv_param)\n",
    "t2 = time()\n",
    "\n",
    "print('Testing conv_forward_fast:')\n",
    "print('Naive: %fs' % (t1 - t0))\n",
    "print('Fast: %fs' % (t2 - t1))\n",
    "print('Speedup: %fx' % ((t1 - t0) / (t2 - t1)))\n",
    "print('Difference: ', rel_error(out_naive, out_fast))\n",
    "\n",
    "t0 = time()\n",
    "dx_naive, dw_naive, db_naive = conv_backward_naive(dout, cache_naive)\n",
    "t1 = time()\n",
    "dx_fast, dw_fast, db_fast = conv_backward_fast(dout, cache_fast)\n",
    "t2 = time()\n",
    "\n",
    "print('\\nTesting conv_backward_fast:')\n",
    "print('Naive: %fs' % (t1 - t0))\n",
    "print('Fast: %fs' % (t2 - t1))\n",
    "print('Speedup: %fx' % ((t1 - t0) / (t2 - t1)))\n",
    "print('dx difference: ', rel_error(dx_naive, dx_fast))\n",
    "print('dw difference: ', rel_error(dw_naive, dw_fast))\n",
    "print('db difference: ', rel_error(db_naive, db_fast))"
   ]
  },
  {
   "cell_type": "code",
   "execution_count": null,
   "metadata": {
    "collapsed": false,
    "deletable": true,
    "editable": true
   },
   "outputs": [],
   "source": [
    "from cs231n.fast_layers import max_pool_forward_fast, max_pool_backward_fast\n",
    "np.random.seed(231)\n",
    "x = np.random.randn(100, 3, 32, 32)\n",
    "dout = np.random.randn(100, 3, 16, 16)\n",
    "pool_param = {'pool_height': 2, 'pool_width': 2, 'stride': 2}\n",
    "\n",
    "t0 = time()\n",
    "out_naive, cache_naive = max_pool_forward_naive(x, pool_param)\n",
    "t1 = time()\n",
    "out_fast, cache_fast = max_pool_forward_fast(x, pool_param)\n",
    "t2 = time()\n",
    "\n",
    "print('Testing pool_forward_fast:')\n",
    "print('Naive: %fs' % (t1 - t0))\n",
    "print('fast: %fs' % (t2 - t1))\n",
    "print('speedup: %fx' % ((t1 - t0) / (t2 - t1)))\n",
    "print('difference: ', rel_error(out_naive, out_fast))\n",
    "\n",
    "t0 = time()\n",
    "dx_naive = max_pool_backward_naive(dout, cache_naive)\n",
    "t1 = time()\n",
    "dx_fast = max_pool_backward_fast(dout, cache_fast)\n",
    "t2 = time()\n",
    "\n",
    "print('\\nTesting pool_backward_fast:')\n",
    "print('Naive: %fs' % (t1 - t0))\n",
    "print('speedup: %fx' % ((t1 - t0) / (t2 - t1)))\n",
    "print('dx difference: ', rel_error(dx_naive, dx_fast))"
   ]
  },
  {
   "cell_type": "markdown",
   "metadata": {
    "deletable": true,
    "editable": true
   },
   "source": [
    "# Convolutional \"sandwich\" layers\n",
    "Previously we introduced the concept of \"sandwich\" layers that combine multiple operations into commonly used patterns. In the file `cs231n/layer_utils.py` you will find sandwich layers that implement a few commonly used patterns for convolutional networks."
   ]
  },
  {
   "cell_type": "code",
   "execution_count": null,
   "metadata": {
    "collapsed": false,
    "deletable": true,
    "editable": true
   },
   "outputs": [],
   "source": [
    "from cs231n.layer_utils import conv_relu_pool_forward, conv_relu_pool_backward\n",
    "np.random.seed(231)\n",
    "x = np.random.randn(2, 3, 16, 16)\n",
    "w = np.random.randn(3, 3, 3, 3)\n",
    "b = np.random.randn(3,)\n",
    "dout = np.random.randn(2, 3, 8, 8)\n",
    "conv_param = {'stride': 1, 'pad': 1}\n",
    "pool_param = {'pool_height': 2, 'pool_width': 2, 'stride': 2}\n",
    "\n",
    "out, cache = conv_relu_pool_forward(x, w, b, conv_param, pool_param)\n",
    "dx, dw, db = conv_relu_pool_backward(dout, cache)\n",
    "\n",
    "dx_num = eval_numerical_gradient_array(lambda x: conv_relu_pool_forward(x, w, b, conv_param, pool_param)[0], x, dout)\n",
    "dw_num = eval_numerical_gradient_array(lambda w: conv_relu_pool_forward(x, w, b, conv_param, pool_param)[0], w, dout)\n",
    "db_num = eval_numerical_gradient_array(lambda b: conv_relu_pool_forward(x, w, b, conv_param, pool_param)[0], b, dout)\n",
    "\n",
    "print('Testing conv_relu_pool')\n",
    "print('dx error: ', rel_error(dx_num, dx))\n",
    "print('dw error: ', rel_error(dw_num, dw))\n",
    "print('db error: ', rel_error(db_num, db))"
   ]
  },
  {
   "cell_type": "code",
   "execution_count": null,
   "metadata": {
    "collapsed": false,
    "deletable": true,
    "editable": true
   },
   "outputs": [],
   "source": [
    "from cs231n.layer_utils import conv_relu_forward, conv_relu_backward\n",
    "np.random.seed(231)\n",
    "x = np.random.randn(2, 3, 8, 8)\n",
    "w = np.random.randn(3, 3, 3, 3)\n",
    "b = np.random.randn(3,)\n",
    "dout = np.random.randn(2, 3, 8, 8)\n",
    "conv_param = {'stride': 1, 'pad': 1}\n",
    "\n",
    "out, cache = conv_relu_forward(x, w, b, conv_param)\n",
    "dx, dw, db = conv_relu_backward(dout, cache)\n",
    "\n",
    "dx_num = eval_numerical_gradient_array(lambda x: conv_relu_forward(x, w, b, conv_param)[0], x, dout)\n",
    "dw_num = eval_numerical_gradient_array(lambda w: conv_relu_forward(x, w, b, conv_param)[0], w, dout)\n",
    "db_num = eval_numerical_gradient_array(lambda b: conv_relu_forward(x, w, b, conv_param)[0], b, dout)\n",
    "\n",
    "print('Testing conv_relu:')\n",
    "print('dx error: ', rel_error(dx_num, dx))\n",
    "print('dw error: ', rel_error(dw_num, dw))\n",
    "print('db error: ', rel_error(db_num, db))"
   ]
  },
  {
   "cell_type": "markdown",
   "metadata": {
    "deletable": true,
    "editable": true
   },
   "source": [
    "# Three-layer ConvNet\n",
    "Now that you have implemented all the necessary layers, we can put them together into a simple convolutional network.\n",
    "\n",
    "Open the file `cs231n/classifiers/cnn.py` and complete the implementation of the `ThreeLayerConvNet` class. Run the following cells to help you debug:"
   ]
  },
  {
   "cell_type": "markdown",
   "metadata": {
    "deletable": true,
    "editable": true
   },
   "source": [
    "## Sanity check loss\n",
    "After you build a new network, one of the first things you should do is sanity check the loss. When we use the softmax loss, we expect the loss for random weights (and no regularization) to be about `log(C)` for `C` classes. When we add regularization this should go up."
   ]
  },
  {
   "cell_type": "code",
   "execution_count": null,
   "metadata": {
    "collapsed": false,
    "deletable": true,
    "editable": true
   },
   "outputs": [],
   "source": [
    "model = ThreeLayerConvNet()\n",
    "\n",
    "N = 50\n",
    "X = np.random.randn(N, 3, 32, 32)\n",
    "y = np.random.randint(10, size=N)\n",
    "\n",
    "loss, grads = model.loss(X, y)\n",
    "print('Initial loss (no regularization): ', loss)\n",
    "\n",
    "model.reg = 0.5\n",
    "loss, grads = model.loss(X, y)\n",
    "print('Initial loss (with regularization): ', loss)"
   ]
  },
  {
   "cell_type": "markdown",
   "metadata": {
    "deletable": true,
    "editable": true
   },
   "source": [
    "## Gradient check\n",
    "After the loss looks reasonable, use numeric gradient checking to make sure that your backward pass is correct. When you use numeric gradient checking you should use a small amount of artifical data and a small number of neurons at each layer. Note: correct implementations may still have relative errors up to 1e-2."
   ]
  },
  {
   "cell_type": "code",
   "execution_count": null,
   "metadata": {
    "collapsed": false,
    "deletable": true,
    "editable": true
   },
   "outputs": [],
   "source": [
    "num_inputs = 2\n",
    "input_dim = (3, 16, 16)\n",
    "reg = 0.0\n",
    "num_classes = 10\n",
    "np.random.seed(231)\n",
    "X = np.random.randn(num_inputs, *input_dim)\n",
    "y = np.random.randint(num_classes, size=num_inputs)\n",
    "\n",
    "model = ThreeLayerConvNet(num_filters=3, filter_size=3,\n",
    "                          input_dim=input_dim, hidden_dim=7,\n",
    "                          dtype=np.float64)\n",
    "loss, grads = model.loss(X, y)\n",
    "for param_name in sorted(grads):\n",
    "    f = lambda _: model.loss(X, y)[0]\n",
    "    param_grad_num = eval_numerical_gradient(f, model.params[param_name], verbose=False, h=1e-6)\n",
    "    e = rel_error(param_grad_num, grads[param_name])\n",
    "    print('%s max relative error: %e' % (param_name, rel_error(param_grad_num, grads[param_name])))"
   ]
  },
  {
   "cell_type": "markdown",
   "metadata": {
    "deletable": true,
    "editable": true
   },
   "source": [
    "## Overfit small data\n",
    "A nice trick is to train your model with just a few training samples. You should be able to overfit small datasets, which will result in very high training accuracy and comparatively low validation accuracy."
   ]
  },
  {
   "cell_type": "code",
   "execution_count": null,
   "metadata": {
    "collapsed": false,
    "deletable": true,
    "editable": true
   },
   "outputs": [],
   "source": [
    "np.random.seed(231)\n",
    "\n",
    "num_train = 100\n",
    "small_data = {\n",
    "  'X_train': data['X_train'][:num_train],\n",
    "  'y_train': data['y_train'][:num_train],\n",
    "  'X_val': data['X_val'],\n",
    "  'y_val': data['y_val'],\n",
    "}\n",
    "\n",
    "model = ThreeLayerConvNet(weight_scale=1e-2)\n",
    "\n",
    "solver = Solver(model, small_data,\n",
    "                num_epochs=15, batch_size=50,\n",
    "                update_rule='adam',\n",
    "                optim_config={\n",
    "                  'learning_rate': 1e-3,\n",
    "                },\n",
    "                verbose=True, print_every=1)\n",
    "solver.train()"
   ]
  },
  {
   "cell_type": "markdown",
   "metadata": {
    "deletable": true,
    "editable": true
   },
   "source": [
    "Plotting the loss, training accuracy, and validation accuracy should show clear overfitting:"
   ]
  },
  {
   "cell_type": "code",
   "execution_count": null,
   "metadata": {
    "collapsed": false,
    "deletable": true,
    "editable": true
   },
   "outputs": [],
   "source": [
    "plt.subplot(2, 1, 1)\n",
    "plt.plot(solver.loss_history, 'o')\n",
    "plt.xlabel('iteration')\n",
    "plt.ylabel('loss')\n",
    "\n",
    "plt.subplot(2, 1, 2)\n",
    "plt.plot(solver.train_acc_history, '-o')\n",
    "plt.plot(solver.val_acc_history, '-o')\n",
    "plt.legend(['train', 'val'], loc='upper left')\n",
    "plt.xlabel('epoch')\n",
    "plt.ylabel('accuracy')\n",
    "plt.show()"
   ]
  },
  {
   "cell_type": "markdown",
   "metadata": {
    "deletable": true,
    "editable": true
   },
   "source": [
    "## Train the net\n",
    "By training the three-layer convolutional network for one epoch, you should achieve greater than 40% accuracy on the training set:"
   ]
  },
  {
   "cell_type": "code",
   "execution_count": null,
   "metadata": {
    "collapsed": false,
    "deletable": true,
    "editable": true,
    "scrolled": false
   },
   "outputs": [],
   "source": [
    "model = ThreeLayerConvNet(weight_scale=0.001, hidden_dim=500, reg=0.001)\n",
    "\n",
    "solver = Solver(model, data,\n",
    "                num_epochs=1, batch_size=50,\n",
    "                update_rule='adam',\n",
    "                optim_config={\n",
    "                  'learning_rate': 1e-3,\n",
    "                },\n",
    "                verbose=True, print_every=20)\n",
    "solver.train()"
   ]
  },
  {
   "cell_type": "markdown",
   "metadata": {
    "deletable": true,
    "editable": true
   },
   "source": [
    "## Visualize Filters\n",
    "You can visualize the first-layer convolutional filters from the trained network by running the following:"
   ]
  },
  {
   "cell_type": "code",
   "execution_count": null,
   "metadata": {
    "collapsed": false,
    "deletable": true,
    "editable": true
   },
   "outputs": [],
   "source": [
    "from cs231n.vis_utils import visualize_grid\n",
    "\n",
    "grid = visualize_grid(model.params['W1'].transpose(0, 2, 3, 1))\n",
    "plt.imshow(grid.astype('uint8'))\n",
    "plt.axis('off')\n",
    "plt.gcf().set_size_inches(5, 5)\n",
    "plt.show()"
   ]
  },
  {
   "cell_type": "markdown",
   "metadata": {
    "deletable": true,
    "editable": true
   },
   "source": [
    "# Spatial Batch Normalization\n",
    "We already saw that batch normalization is a very useful technique for training deep fully-connected networks. Batch normalization can also be used for convolutional networks, but we need to tweak it a bit; the modification will be called \"spatial batch normalization.\"\n",
    "\n",
    "Normally batch-normalization accepts inputs of shape `(N, D)` and produces outputs of shape `(N, D)`, where we normalize across the minibatch dimension `N`. For data coming from convolutional layers, batch normalization needs to accept inputs of shape `(N, C, H, W)` and produce outputs of shape `(N, C, H, W)` where the `N` dimension gives the minibatch size and the `(H, W)` dimensions give the spatial size of the feature map.\n",
    "\n",
    "If the feature map was produced using convolutions, then we expect the statistics of each feature channel to be relatively consistent both between different imagesand different locations within the same image. Therefore spatial batch normalization computes a mean and variance for each of the `C` feature channels by computing statistics over both the minibatch dimension `N` and the spatial dimensions `H` and `W`."
   ]
  },
  {
   "cell_type": "markdown",
   "metadata": {
    "deletable": true,
    "editable": true
   },
   "source": [
    "## Spatial batch normalization: forward\n",
    "\n",
    "In the file `cs231n/layers.py`, implement the forward pass for spatial batch normalization in the function `spatial_batchnorm_forward`. Check your implementation by running the following:"
   ]
  },
  {
   "cell_type": "code",
   "execution_count": null,
   "metadata": {
    "collapsed": false,
    "deletable": true,
    "editable": true
   },
   "outputs": [],
   "source": [
    "np.random.seed(231)\n",
    "# Check the training-time forward pass by checking means and variances\n",
    "# of features both before and after spatial batch normalization\n",
    "\n",
    "N, C, H, W = 2, 3, 4, 5\n",
    "x = 4 * np.random.randn(N, C, H, W) + 10\n",
    "\n",
    "print('Before spatial batch normalization:')\n",
    "print('  Shape: ', x.shape)\n",
    "print('  Means: ', x.mean(axis=(0, 2, 3)))\n",
    "print('  Stds: ', x.std(axis=(0, 2, 3)))\n",
    "\n",
    "# Means should be close to zero and stds close to one\n",
    "gamma, beta = np.ones(C), np.zeros(C)\n",
    "bn_param = {'mode': 'train'}\n",
    "out, _ = spatial_batchnorm_forward(x, gamma, beta, bn_param)\n",
    "print('After spatial batch normalization:')\n",
    "print('  Shape: ', out.shape)\n",
    "print('  Means: ', out.mean(axis=(0, 2, 3)))\n",
    "print('  Stds: ', out.std(axis=(0, 2, 3)))\n",
    "\n",
    "# Means should be close to beta and stds close to gamma\n",
    "gamma, beta = np.asarray([3, 4, 5]), np.asarray([6, 7, 8])\n",
    "out, _ = spatial_batchnorm_forward(x, gamma, beta, bn_param)\n",
    "print('After spatial batch normalization (nontrivial gamma, beta):')\n",
    "print('  Shape: ', out.shape)\n",
    "print('  Means: ', out.mean(axis=(0, 2, 3)))\n",
    "print('  Stds: ', out.std(axis=(0, 2, 3)))"
   ]
  },
  {
   "cell_type": "code",
   "execution_count": null,
   "metadata": {
    "collapsed": false,
    "deletable": true,
    "editable": true
   },
   "outputs": [],
   "source": [
    "np.random.seed(231)\n",
    "# Check the test-time forward pass by running the training-time\n",
    "# forward pass many times to warm up the running averages, and then\n",
    "# checking the means and variances of activations after a test-time\n",
    "# forward pass.\n",
    "N, C, H, W = 10, 4, 11, 12\n",
    "\n",
    "bn_param = {'mode': 'train'}\n",
    "gamma = np.ones(C)\n",
    "beta = np.zeros(C)\n",
    "for t in range(50):\n",
    "  x = 2.3 * np.random.randn(N, C, H, W) + 13\n",
    "  spatial_batchnorm_forward(x, gamma, beta, bn_param)\n",
    "bn_param['mode'] = 'test'\n",
    "x = 2.3 * np.random.randn(N, C, H, W) + 13\n",
    "a_norm, _ = spatial_batchnorm_forward(x, gamma, beta, bn_param)\n",
    "\n",
    "# Means should be close to zero and stds close to one, but will be\n",
    "# noisier than training-time forward passes.\n",
    "print('After spatial batch normalization (test-time):')\n",
    "print('  means: ', a_norm.mean(axis=(0, 2, 3)))\n",
    "print('  stds: ', a_norm.std(axis=(0, 2, 3)))"
   ]
  },
  {
   "cell_type": "markdown",
   "metadata": {
    "deletable": true,
    "editable": true
   },
   "source": [
    "## Spatial batch normalization: backward\n",
    "In the file `cs231n/layers.py`, implement the backward pass for spatial batch normalization in the function `spatial_batchnorm_backward`. Run the following to check your implementation using a numeric gradient check:"
   ]
  },
  {
   "cell_type": "code",
   "execution_count": null,
   "metadata": {
    "collapsed": false,
    "deletable": true,
    "editable": true
   },
   "outputs": [],
   "source": [
    "np.random.seed(231)\n",
    "N, C, H, W = 2, 3, 4, 5\n",
    "x = 5 * np.random.randn(N, C, H, W) + 12\n",
    "gamma = np.random.randn(C)\n",
    "beta = np.random.randn(C)\n",
    "dout = np.random.randn(N, C, H, W)\n",
    "\n",
    "bn_param = {'mode': 'train'}\n",
    "fx = lambda x: spatial_batchnorm_forward(x, gamma, beta, bn_param)[0]\n",
    "fg = lambda a: spatial_batchnorm_forward(x, gamma, beta, bn_param)[0]\n",
    "fb = lambda b: spatial_batchnorm_forward(x, gamma, beta, bn_param)[0]\n",
    "\n",
    "dx_num = eval_numerical_gradient_array(fx, x, dout)\n",
    "da_num = eval_numerical_gradient_array(fg, gamma, dout)\n",
    "db_num = eval_numerical_gradient_array(fb, beta, dout)\n",
    "\n",
    "_, cache = spatial_batchnorm_forward(x, gamma, beta, bn_param)\n",
    "dx, dgamma, dbeta = spatial_batchnorm_backward(dout, cache)\n",
    "print('dx error: ', rel_error(dx_num, dx))\n",
    "print('dgamma error: ', rel_error(da_num, dgamma))\n",
    "print('dbeta error: ', rel_error(db_num, dbeta))"
   ]
  },
  {
   "cell_type": "markdown",
   "metadata": {},
   "source": [
    "# Extra Credit Description\n",
    "If you implement any additional features for extra credit, clearly describe them here with pointers to any code in this or other files if applicable."
   ]
  }
 ],
 "metadata": {
  "anaconda-cloud": {},
  "kernelspec": {
   "display_name": "Python 3",
   "language": "python",
   "name": "python3"
  },
  "language_info": {
   "codemirror_mode": {
    "name": "ipython",
    "version": 3
   },
   "file_extension": ".py",
   "mimetype": "text/x-python",
   "name": "python",
   "nbconvert_exporter": "python",
   "pygments_lexer": "ipython3",
   "version": "3.5.2"
  }
 },
 "nbformat": 4,
 "nbformat_minor": 0
}
